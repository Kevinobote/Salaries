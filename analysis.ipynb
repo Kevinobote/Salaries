{
 "cells": [
  {
   "cell_type": "markdown",
   "metadata": {},
   "source": [
    "# Salary Analysis Project\n",
    "\n",
    "This notebook performs a comprehensive analysis of salary data including EDA, statistical testing, and linear regression modeling.\n",
    "\n",
    "## Table of Contents\n",
    "1. Data Loading and Initial Exploration\n",
    "2. Exploratory Data Analysis (EDA)\n",
    "3. Data Preprocessing\n",
    "4. Hypothesis Testing\n",
    "5. Model Development\n",
    "6. Model Evaluation\n",
    "7. Model Interpretation"
   ]
  },
  {
   "cell_type": "code",
   "execution_count": null,
   "metadata": {},
   "source": [
    "# Import required libraries\n",
    "import pandas as pd\n",
    "import numpy as np\n",
    "import matplotlib.pyplot as plt\n",
    "import seaborn as sns\n",
    "from scipy import stats\n",
    "from sklearn.model_selection import train_test_split, cross_val_score\n",
    "from sklearn.preprocessing import StandardScaler, OneHotEncoder\n",
    "from sklearn.compose import ColumnTransformer\n",
    "from sklearn.pipeline import Pipeline\n",
    "from sklearn.linear_model import LinearRegression\n",
    "from sklearn.metrics import r2_score, mean_squared_error, mean_absolute_error\n",
    "import statsmodels.api as sm\n",
    "from statsmodels.stats.outliers_influence import variance_inflation_factor\n",
    "import shap\n",
    "\n",
    "# Set style for visualizations\n",
    "plt.style.use('seaborn')\n",
    "sns.set_palette('husl')\n",
    "\n",
    "# Configure pandas display options\n",
    "pd.set_option('display.max_columns', None)\n",
    "pd.set_option('display.float_format', lambda x: '%.3f' % x)"
   ]
  },
  {
   "cell_type": "markdown",
   "metadata": {},
   "source": [
    "## 1. Data Loading and Initial Exploration"
   ]
  },
  {
   "cell_type": "code",
   "execution_count": null,
   "metadata": {},
   "source": [
    "# Load the dataset\n",
    "df = pd.read_csv('salaries.csv')\n",
    "\n",
    "# Display basic information about the dataset\n",
    "print(\"Dataset Info:\")\n",
    "print(\"=============\\n\")\n",
    "print(df.info())\n",
    "\n",
    "print(\"\\nFirst few rows:\")\n",
    "print(\"=============\\n\")\n",
    "print(df.head())\n",
    "\n",
    "# Separate numerical and categorical columns\n",
    "numerical_features = ['work_year', 'salary', 'salary_in_usd', 'remote_ratio']\n",
    "categorical_features = ['experience_level', 'employment_type', 'job_title', 'salary_currency',\n",
    "                       'employee_residence', 'company_location', 'company_size']"
   ]
  },
  {
   "cell_type": "markdown",
   "metadata": {},
   "source": [
    "## 2. Exploratory Data Analysis (EDA)"
   ]
  },
  {
   "cell_type": "code",
   "execution_count": null,
   "metadata": {},
   "source": [
    "# Summary statistics for numerical variables\n",
    "print(\"Summary Statistics for Numerical Variables:\")\n",
    "print(df[numerical_features].describe())\n",
    "\n",
    "# Distribution of salary_in_usd\n",
    "plt.figure(figsize=(12, 6))\n",
    "sns.histplot(data=df, x='salary_in_usd', bins=50)\n",
    "plt.title('Distribution of Salaries (USD)')\n",
    "plt.show()\n",
    "\n",
    "# Box plot of salary by experience level\n",
    "plt.figure(figsize=(12, 6))\n",
    "sns.boxplot(data=df, x='experience_level', y='salary_in_usd')\n",
    "plt.title('Salary Distribution by Experience Level')\n",
    "plt.xticks(rotation=45)\n",
    "plt.show()\n",
    "\n",
    "# Correlation analysis\n",
    "correlation_matrix = df[numerical_features].corr()\n",
    "plt.figure(figsize=(10, 8))\n",
    "sns.heatmap(correlation_matrix, annot=True, cmap='coolwarm')\n",
    "plt.title('Correlation Matrix of Numerical Features')\n",
    "plt.show()\n",
    "\n",
    "# Categorical variable analysis\n",
    "for cat_feature in categorical_features:\n",
    "    plt.figure(figsize=(12, 6))\n",
    "    df[cat_feature].value_counts().plot(kind='bar')\n",
    "    plt.title(f'Distribution of {cat_feature}')\n",
    "    plt.xticks(rotation=45)\n",
    "    plt.show()"
   ]
  },
  {
   "cell_type": "markdown",
   "metadata": {},
   "source": [
    "## 3. Data Preprocessing"
   ]
  },
  {
   "cell_type": "code",
   "execution_count": null,
   "metadata": {},
   "source": [
    "# Function to detect outliers using IQR method\n",
    "def detect_outliers(df, column):\n",
    "    Q1 = df[column].quantile(0.25)\n",
    "    Q3 = df[column].quantile(0.75)\n",
    "    IQR = Q3 - Q1\n",
    "    lower_bound = Q1 - 1.5 * IQR\n",
    "    upper_bound = Q3 + 1.5 * IQR\n",
    "    return df[(df[column] >= lower_bound) & (df[column] <= upper_bound)]\n",
    "\n",
    "# Remove outliers from salary_in_usd\n",
    "df_cleaned = detect_outliers(df, 'salary_in_usd')\n",
    "\n",
    "# Prepare features for modeling\n",
    "X = df_cleaned.drop(['salary_in_usd', 'salary', 'salary_currency'], axis=1)\n",
    "y = df_cleaned['salary_in_usd']\n",
    "\n",
    "# Create preprocessing pipeline\n",
    "numeric_features = ['work_year', 'remote_ratio']\n",
    "categorical_features = ['experience_level', 'employment_type', 'job_title',\n",
    "                       'employee_residence', 'company_location', 'company_size']\n",
    "\n",
    "preprocessor = ColumnTransformer(\n",
    "    transformers=[\n",
    "        ('num', StandardScaler(), numeric_features),\n",
    "        ('cat', OneHotEncoder(drop='first', sparse=False), categorical_features)\n",
    "    ])\n",
    "\n",
    "# Split the data\n",
    "X_train, X_test, y_train, y_test = train_test_split(X, y, test_size=0.2, random_state=42)"
   ]
  },
  {
   "cell_type": "markdown",
   "metadata": {},
   "source": [
    "## 4. Hypothesis Testing"
   ]
  },
  {
   "cell_type": "code",
   "execution_count": null,
   "metadata": {},
   "source": [
    "# ANOVA test for salary differences across experience levels\n",
    "experience_groups = [group for _, group in df_cleaned.groupby('experience_level')['salary_in_usd']]\n",
    "f_statistic, p_value = stats.f_oneway(*experience_groups)\n",
    "print(\"ANOVA Test Results:\")\n",
    "print(f\"F-statistic: {f_statistic}\")\n",
    "print(f\"p-value: {p_value}\")\n",
    "\n",
    "# Test for normality of salary distribution\n",
    "_, normality_p_value = stats.normaltest(df_cleaned['salary_in_usd'])\n",
    "print(\"\\nNormality Test Results:\")\n",
    "print(f\"p-value: {normality_p_value}\")"
   ]
  },
  {
   "cell_type": "markdown",
   "metadata": {},
   "source": [
    "## 5. Model Development"
   ]
  },
  {
   "cell_type": "code",
   "execution_count": null,
   "metadata": {},
   "source": [
    "# Simple Linear Regression\n",
    "simple_model = LinearRegression()\n",
    "X_simple = df_cleaned[['work_year']].values.reshape(-1, 1)\n",
    "simple_model.fit(X_simple, y)\n",
    "\n",
    "# Multiple Linear Regression\n",
    "pipeline = Pipeline([\n",
    "    ('preprocessor', preprocessor),\n",
    "    ('regressor', LinearRegression())\n",
    "])\n",
    "\n",
    "# Fit the pipeline\n",
    "pipeline.fit(X_train, y_train)\n",
    "\n",
    "# Cross-validation\n",
    "cv_scores = cross_val_score(pipeline, X_train, y_train, cv=5, scoring='r2')\n",
    "print(\"Cross-validation scores:\", cv_scores)\n",
    "print(\"Mean CV Score:\", cv_scores.mean())"
   ]
  },
  {
   "cell_type": "markdown",
   "metadata": {},
   "source": [
    "## 6. Model Evaluation"
   ]
  },
  {
   "cell_type": "code",
   "execution_count": null,
   "metadata": {},
   "source": [
    "# Make predictions\n",
    "y_pred = pipeline.predict(X_test)\n",
    "\n",
    "# Calculate performance metrics\n",
    "r2 = r2_score(y_test, y_pred)\n",
    "mse = mean_squared_error(y_test, y_pred)\n",
    "rmse = np.sqrt(mse)\n",
    "mae = mean_absolute_error(y_test, y_pred)\n",
    "\n",
    "print(\"Model Performance Metrics:\")\n",
    "print(f\"R² Score: {r2:.4f}\")\n",
    "print(f\"MSE: {mse:.4f}\")\n",
    "print(f\"RMSE: {rmse:.4f}\")\n",
    "print(f\"MAE: {mae:.4f}\")\n",
    "\n",
    "# Residual analysis\n",
    "residuals = y_test - y_pred\n",
    "plt.figure(figsize=(10, 6))\n",
    "sns.scatterplot(x=y_pred, y=residuals)\n",
    "plt.axhline(y=0, color='r', linestyle='--')\n",
    "plt.xlabel('Predicted Values')\n",
    "plt.ylabel('Residuals')\n",
    "plt.title('Residual Plot')\n",
    "plt.show()\n",
    "\n",
    "# Q-Q plot for residuals\n",
    "plt.figure(figsize=(10, 6))\n",
    "stats.probplot(residuals, dist=\"norm\", plot=plt)\n",
    "plt.title('Q-Q Plot of Residuals')\n",
    "plt.show()"
   ]
  },
  {
   "cell_type": "markdown",
   "metadata": {},
   "source": [
    "## 7. Model Interpretation"
   ]
  },
  {
   "cell_type": "code",
   "execution_count": null,
   "metadata": {},
   "source": [
    "# Get feature names after preprocessing\n",
    "feature_names = (numeric_features +\n",
    "                [f\"{feature}_{val}\" for feature, vals in\n",
    "                 zip(categorical_features,\n",
    "                     preprocessor.named_transformers_['cat'].categories_)\n",
    "                 for val in vals[1:]])\n",
    "\n",
    "# Get coefficients\n",
    "coefficients = pd.DataFrame(\n",
    "    pipeline.named_steps['regressor'].coef_,\n",
    "    index=feature_names,\n",
    "    columns=['Coefficient']\n",
    ").sort_values('Coefficient', ascending=False)\n",
    "\n",
    "# Plot feature importance\n",
    "plt.figure(figsize=(12, 8))\n",
    "sns.barplot(x=coefficients['Coefficient'], y=coefficients.index)\n",
    "plt.title('Feature Importance (Coefficient Values)')\n",
    "plt.show()\n",
    "\n",
    "# SHAP values for feature importance\n",
    "X_processed = pipeline.named_steps['preprocessor'].transform(X_test)\n",
    "explainer = shap.LinearExplainer(pipeline.named_steps['regressor'], X_processed)\n",
    "shap_values = explainer.shap_values(X_processed)\n",
    "\n",
    "plt.figure(figsize=(12, 8))\n",
    "shap.summary_plot(shap_values, X_processed, feature_names=feature_names)"
   ]
  }
 ],
 "metadata": {
  "kernelspec": {
   "display_name": "Python 3",
   "language": "python",
   "name": "python3"
  },
  "language_info": {
   "codemirror_mode": {
    "name": "ipython",
    "version": 3
   },
   "file_extension": ".py",
   "mimetype": "text/x-python",
   "name": "python",
   "nbconvert_exporter": "python",
   "pygments_lexer": "ipython3",
   "version": "3.8.0"
  }
 },
 "nbformat": 4,
 "nbformat_minor": 4
}